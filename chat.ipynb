{
 "cells": [
  {
   "cell_type": "code",
   "execution_count": null,
   "metadata": {},
   "outputs": [],
   "source": [
    "import torch\n",
    "from transformers import AutoTokenizer, AutoModelForCausalLM\n",
    "\n",
    "tokenizer = AutoTokenizer.from_pretrained(\"KangarooGroup/kangaroo\")\n",
    "model = AutoModelForCausalLM.from_pretrained(\n",
    "    \"KangarooGroup/kangaroo\",\n",
    "    torch_dtype=torch.bfloat16,\n",
    "    trust_remote_code=True,\n",
    ")\n",
    "model = model.to(\"cuda\")\n",
    "terminators = [tokenizer.eos_token_id, tokenizer.convert_tokens_to_ids(\"<|eot_id|>\")]\n",
    "video_path = \"demo_videos/bike.mp4\""
   ]
  },
  {
   "cell_type": "code",
   "execution_count": null,
   "metadata": {},
   "outputs": [],
   "source": [
    "query = \"Give a brief description of this video\"\n",
    "out, history = model.chat(video_path=video_path,\n",
    "                          query=query,\n",
    "                          tokenizer=tokenizer,\n",
    "                          max_new_tokens=512,\n",
    "                          eos_token_id=terminators,\n",
    "                          do_sample=True,\n",
    "                          temperature=0.6,\n",
    "                          top_p=0.9,)\n",
    "print('Assitant: \\n', out)\n",
    "# A person is seen riding a mountain bike down a dirt trail in the woods, following another biker."
   ]
  },
  {
   "cell_type": "code",
   "execution_count": null,
   "metadata": {},
   "outputs": [],
   "source": [
    "query = \"What season could the scene in the video possibly be set in? Provide detailed reasons.\"\n",
    "out, history = model.chat(video_path=video_path,\n",
    "                          query=query,\n",
    "                          tokenizer=tokenizer,\n",
    "                          max_new_tokens=512,\n",
    "                          eos_token_id=terminators,\n",
    "                          do_sample=True,\n",
    "                          temperature=0.6,\n",
    "                          top_p=0.9,)\n",
    "print('Assitant: \\n', out)\n",
    "# The scene in the video is set in a forest with lush green trees, indicating that it could possibly be set in the spring or summer season."
   ]
  }
 ],
 "metadata": {
  "language_info": {
   "name": "python"
  }
 },
 "nbformat": 4,
 "nbformat_minor": 2
}
