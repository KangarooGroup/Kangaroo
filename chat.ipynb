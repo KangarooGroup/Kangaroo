{
 "cells": [
  {
   "cell_type": "code",
   "execution_count": null,
   "metadata": {},
   "outputs": [],
   "source": [
    "import torch\n",
    "from transformers import AutoTokenizer, AutoModelForCausalLM\n",
    "\n",
    "# replace /path/to/kangaroo to your own path to the model\n",
    "tokenizer = AutoTokenizer.from_pretrained(\"/path/to/kangaroo\")\n",
    "model = AutoModelForCausalLM.from_pretrained(\n",
    "    \"/path/to/kangaroo\",\n",
    "    torch_dtype=torch.bfloat16,\n",
    "    trust_remote_code=True,\n",
    ")\n",
    "model = model.to(\"cuda\")\n",
    "terminators = [tokenizer.eos_token_id, tokenizer.convert_tokens_to_ids(\"<|eot_id|>\")]\n",
    "video_path = \"demo_videos/bike.mp4\""
   ]
  },
  {
   "cell_type": "code",
   "execution_count": null,
   "metadata": {},
   "outputs": [],
   "source": [
    "query = \"Give a brief description of this video\"\n",
    "out, history = model.chat(video_path=video_path,\n",
    "                          query=query,\n",
    "                          tokenizer=tokenizer,\n",
    "                          max_new_tokens=512,\n",
    "                          eos_token_id=terminators,\n",
    "                          do_sample=True,\n",
    "                          temperature=0.6,\n",
    "                          top_p=0.9,)\n",
    "print('Assitant: \\n', out)\n",
    "# A person is mountain biking on a dirt trail, closely following another biker in front, \n",
    "# both moving swiftly through the forest."
   ]
  },
  {
   "cell_type": "code",
   "execution_count": null,
   "metadata": {},
   "outputs": [],
   "source": [
    "query = \"How is the scene in the video most likely filmed? Provide detailed reasons.\"\n",
    "out, history = model.chat(video_path=video_path,\n",
    "                          query=query,\n",
    "                          tokenizer=tokenizer,\n",
    "                          max_new_tokens=512,\n",
    "                          eos_token_id=terminators,\n",
    "                          do_sample=True,\n",
    "                          temperature=0.6,\n",
    "                          top_p=0.9,)\n",
    "print('Assitant: \\n', out)\n",
    "# The scene in the video is most likely filmed using a helmet-mounted camera. This type \n",
    "# of camera is designed to be mounted on a helmet, providing a first-person perspective \n",
    "# of the rider's experience. The camera is able to capture the rider's movements and the \n",
    "# surrounding environment, providing a sense of immersion and realism to the viewer."
   ]
  }
 ],
 "metadata": {
  "language_info": {
   "name": "python"
  }
 },
 "nbformat": 4,
 "nbformat_minor": 2
}
